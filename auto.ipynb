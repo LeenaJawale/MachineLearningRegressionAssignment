{
 "cells": [
  {
   "cell_type": "markdown",
   "metadata": {},
   "source": [
    "Predict price of car using car specifications.\n"
   ]
  },
  {
   "cell_type": "code",
   "execution_count": 85,
   "metadata": {
    "collapsed": true
   },
   "outputs": [],
   "source": [
    "#Import libraries \n",
    "import pandas as pd\n",
    "import matplotlib.pyplot as plt\n",
    "from sklearn.linear_model import LinearRegression, Lasso, Ridge, ElasticNet, SGDRegressor\n",
    "import numpy as np\n",
    "from sklearn.metrics import mean_squared_error, r2_score\n",
    "from sklearn.model_selection import train_test_split\n",
    "\n",
    "%matplotlib inline"
   ]
  },
  {
   "cell_type": "code",
   "execution_count": 86,
   "metadata": {
    "scrolled": true
   },
   "outputs": [
    {
     "name": "stdout",
     "output_type": "stream",
     "text": [
      "Index(['id', 'symboling', 'normalized_losses', 'make', 'fuel-type',\n",
      "       'aspiration', 'num-of-doors', 'body-style', 'drive-wheels',\n",
      "       'engine-location', 'wheel_base', 'length', 'width', 'height',\n",
      "       'curb_weight', 'engine-type', 'num_of_cylinders', 'engine_size',\n",
      "       'fuel-system', 'bore', 'stroke', 'compression_ratio', 'horsepower',\n",
      "       'peak_rpm', 'city_mpg', 'highway_mpg', 'price'],\n",
      "      dtype='object')\n"
     ]
    }
   ],
   "source": [
    "#Read dataset \n",
    "data = pd.read_csv('C://Leena Study//MachineLearning//Ass1/auto.csv')\n",
    "\n",
    "data.head()\n",
    "print(data.keys())"
   ]
  },
  {
   "cell_type": "code",
   "execution_count": 87,
   "metadata": {},
   "outputs": [
    {
     "name": "stdout",
     "output_type": "stream",
     "text": [
      "Estimated intercept coefficent: [-63698.75460246]\n",
      "Coefficients: \n",
      " [[  129.7983335    -81.81176577   831.34220537  1065.97577336\n",
      "      5.68618133     9.64546187    23.40524349]]\n"
     ]
    }
   ],
   "source": [
    "#Load the independent attriubutes and dependent attributes into dataframe \n",
    "df_x=pd.DataFrame(data,columns=(['wheel_base','length','width','num_of_cylinders','curb_weight','engine_size','horsepower']))\n",
    "df_y=pd.DataFrame(data,columns=(['price']))\n",
    "\n",
    "#scikit learn LinearRegession model \n",
    "from sklearn.linear_model import LinearRegression\n",
    "reg = LinearRegression()\n",
    "x_train,x_test,y_train,y_test=train_test_split(df_x,df_y,test_size=0.20,random_state=10)\n",
    "reg.fit(x_train,y_train)\n",
    "\n",
    "#intercept and coefficient \n",
    "print ('Estimated intercept coefficent:', reg.intercept_)\n",
    "print('Coefficients: \\n', reg.coef_)\n",
    "\n",
    "#Predict the car prices \n",
    "y_pred = reg.predict(x_test)"
   ]
  },
  {
   "cell_type": "code",
   "execution_count": 91,
   "metadata": {},
   "outputs": [
    {
     "name": "stdout",
     "output_type": "stream",
     "text": [
      "Mean squared error: 3717125.76\n",
      "Variance score: 0.89\n"
     ]
    }
   ],
   "source": [
    "# The mean squared error\n",
    "print(\"Mean squared error: %.2f\" % mean_squared_error(y_test, y_pred))\n",
    "# Calculated Performance Variance score\n",
    "print('Variance score: %.2f' % r2_score(y_test,y_pred))"
   ]
  },
  {
   "cell_type": "code",
   "execution_count": 93,
   "metadata": {},
   "outputs": [
    {
     "data": {
      "image/png": "[encoded data removed]",
      "text/plain": [
       "<matplotlib.figure.Figure at 0x1647c710668>"
      ]
     },
     "metadata": {},
     "output_type": "display_data"
    }
   ],
   "source": [
    "#Plot actual prices vs Predicted prices\n",
    "%matplotlib inline\n",
    "plt.plot(y_pred, y_test,'ro')\n",
    "plt.plot([0,50],[0,50], 'g-')\n",
    "plt.xlabel('Predicted')\n",
    "plt.ylabel('Actual')\n",
    "plt.show()"
   ]
  },
  {
   "cell_type": "code",
   "execution_count": null,
   "metadata": {},
   "outputs": [],
   "source": []
  }
 ],
 "metadata": {
  "kernelspec": {
   "display_name": "Python 3",
   "language": "python",
   "name": "python3"
  },
  "language_info": {
   "codemirror_mode": {
    "name": "ipython",
    "version": 3
   },
   "file_extension": ".py",
   "mimetype": "text/x-python",
   "name": "python",
   "nbconvert_exporter": "python",
   "pygments_lexer": "ipython3",
   "version": "3.6.1"
  }
 },
 "nbformat": 4,
 "nbformat_minor": 2
}
